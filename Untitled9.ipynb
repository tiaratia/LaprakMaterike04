{
 "cells": [
  {
   "cell_type": "code",
   "execution_count": 12,
   "id": "beaa85dd",
   "metadata": {},
   "outputs": [
    {
     "name": "stdout",
     "output_type": "stream",
     "text": [
      "Masukkan angka pertama: 7\n",
      "Masukkan angka kedua: 4\n",
      "Masukkan angka ketiga: 5\n",
      "Output yang diharapkan: False\n"
     ]
    }
   ],
   "source": [
    "def cek_digit_belakang(a, b, c):\n",
    "   \n",
    "    digit_a = str(a)[-1]\n",
    "    digit_b = str(b)[-1]\n",
    "    digit_c = str(c)[-1]\n",
    "\n",
    "   \n",
    "    if digit_a == digit_b or digit_a == digit_c or digit_b == digit_c:\n",
    "        return True\n",
    "    else:\n",
    "        return False\n",
    "\n",
    "\n",
    "input_a = int(input(\"Masukkan angka pertama: \"))\n",
    "input_b = int(input(\"Masukkan angka kedua: \"))\n",
    "input_c = int(input(\"Masukkan angka ketiga: \"))\n",
    "\n",
    "\n",
    "hasil = cek_digit_belakang(input_a, input_b, input_c)\n",
    "print(\"Output yang diharapkan:\", hasil)\n"
   ]
  },
  {
   "cell_type": "code",
   "execution_count": 14,
   "id": "7d29d78a",
   "metadata": {},
   "outputs": [
    {
     "name": "stdout",
     "output_type": "stream",
     "text": [
      "212.0\n",
      "64.0\n",
      "32.0\n"
     ]
    }
   ],
   "source": [
    "\n",
    "celsius_to_fahrenheit = lambda celsius: (9/5) * celsius + 32\n",
    "\n",
    "\n",
    "celsius_to_reamur = lambda celsius: 0.8 * celsius\n",
    "\n",
    "\n",
    "print(celsius_to_fahrenheit(100))  \n",
    "print(celsius_to_reamur(80))  \n",
    "print(celsius_to_fahrenheit(0)) "
   ]
  },
  {
   "cell_type": "code",
   "execution_count": null,
   "id": "e822bc95",
   "metadata": {},
   "outputs": [],
   "source": [
    "def cek_angka(a, b, c):\n",
    "   \n",
    "    if a == b or a == c or b == c:\n",
    "        return False\n",
    "    \n",
    "  \n",
    "    if a + b == c:\n",
    "        return True\n",
    "   \n",
    "    elif a + c == b:\n",
    "        return True\n",
    "   \n",
    "    elif b + c == a:\n",
    "        return True\n",
    "    else:\n",
    "        return False\n",
    "\n",
    "print(cek_angka(1, 2, 3))  \n",
    "print(cek_angka(1, 2, 2))  \n",
    "print(cek_angka(4, 5, 9))  \n",
    "print(cek_angka(7, 8, 15)) \n"
   ]
  }
 ],
 "metadata": {
  "kernelspec": {
   "display_name": "Python 3 (ipykernel)",
   "language": "python",
   "name": "python3"
  },
  "language_info": {
   "codemirror_mode": {
    "name": "ipython",
    "version": 3
   },
   "file_extension": ".py",
   "mimetype": "text/x-python",
   "name": "python",
   "nbconvert_exporter": "python",
   "pygments_lexer": "ipython3",
   "version": "3.11.5"
  }
 },
 "nbformat": 4,
 "nbformat_minor": 5
}
